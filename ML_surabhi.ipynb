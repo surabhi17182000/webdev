{
  "nbformat": 4,
  "nbformat_minor": 0,
  "metadata": {
    "colab": {
      "name": "ML_surabhi.ipynb",
      "provenance": [],
      "collapsed_sections": []
    },
    "kernelspec": {
      "name": "python3",
      "display_name": "Python 3"
    }
  },
  "cells": [
    {
      "cell_type": "code",
      "metadata": {
        "id": "5vZnBuE5vwwO",
        "colab_type": "code",
        "colab": {}
      },
      "source": [
        "import pandas as pd"
      ],
      "execution_count": 14,
      "outputs": []
    },
    {
      "cell_type": "code",
      "metadata": {
        "id": "uN2UmnpgwFEG",
        "colab_type": "code",
        "colab": {}
      },
      "source": [
        "dataset = pd.read_csv('datasets_4458_8204_winequality-red.csv')"
      ],
      "execution_count": 15,
      "outputs": []
    },
    {
      "cell_type": "code",
      "metadata": {
        "id": "Spn7PiJiwWt6",
        "colab_type": "code",
        "colab": {
          "base_uri": "https://localhost:8080/",
          "height": 453
        },
        "outputId": "e2840fed-30d3-475e-cbcc-821189b61a76"
      },
      "source": [
        "dataset"
      ],
      "execution_count": 16,
      "outputs": [
        {
          "output_type": "execute_result",
          "data": {
            "text/html": [
              "<div>\n",
              "<style scoped>\n",
              "    .dataframe tbody tr th:only-of-type {\n",
              "        vertical-align: middle;\n",
              "    }\n",
              "\n",
              "    .dataframe tbody tr th {\n",
              "        vertical-align: top;\n",
              "    }\n",
              "\n",
              "    .dataframe thead th {\n",
              "        text-align: right;\n",
              "    }\n",
              "</style>\n",
              "<table border=\"1\" class=\"dataframe\">\n",
              "  <thead>\n",
              "    <tr style=\"text-align: right;\">\n",
              "      <th></th>\n",
              "      <th>fixed acidity</th>\n",
              "      <th>volatile acidity</th>\n",
              "      <th>citric acid</th>\n",
              "      <th>residual sugar</th>\n",
              "      <th>chlorides</th>\n",
              "      <th>free sulfur dioxide</th>\n",
              "      <th>total sulfur dioxide</th>\n",
              "      <th>density</th>\n",
              "      <th>pH</th>\n",
              "      <th>sulphates</th>\n",
              "      <th>alcohol</th>\n",
              "      <th>quality</th>\n",
              "    </tr>\n",
              "  </thead>\n",
              "  <tbody>\n",
              "    <tr>\n",
              "      <th>0</th>\n",
              "      <td>7.4</td>\n",
              "      <td>0.700</td>\n",
              "      <td>0.00</td>\n",
              "      <td>1.9</td>\n",
              "      <td>0.076</td>\n",
              "      <td>11.0</td>\n",
              "      <td>34.0</td>\n",
              "      <td>0.99780</td>\n",
              "      <td>3.51</td>\n",
              "      <td>0.56</td>\n",
              "      <td>9.4</td>\n",
              "      <td>5</td>\n",
              "    </tr>\n",
              "    <tr>\n",
              "      <th>1</th>\n",
              "      <td>7.8</td>\n",
              "      <td>0.880</td>\n",
              "      <td>0.00</td>\n",
              "      <td>2.6</td>\n",
              "      <td>0.098</td>\n",
              "      <td>25.0</td>\n",
              "      <td>67.0</td>\n",
              "      <td>0.99680</td>\n",
              "      <td>3.20</td>\n",
              "      <td>0.68</td>\n",
              "      <td>9.8</td>\n",
              "      <td>5</td>\n",
              "    </tr>\n",
              "    <tr>\n",
              "      <th>2</th>\n",
              "      <td>7.8</td>\n",
              "      <td>0.760</td>\n",
              "      <td>0.04</td>\n",
              "      <td>2.3</td>\n",
              "      <td>0.092</td>\n",
              "      <td>15.0</td>\n",
              "      <td>54.0</td>\n",
              "      <td>0.99700</td>\n",
              "      <td>3.26</td>\n",
              "      <td>0.65</td>\n",
              "      <td>9.8</td>\n",
              "      <td>5</td>\n",
              "    </tr>\n",
              "    <tr>\n",
              "      <th>3</th>\n",
              "      <td>11.2</td>\n",
              "      <td>0.280</td>\n",
              "      <td>0.56</td>\n",
              "      <td>1.9</td>\n",
              "      <td>0.075</td>\n",
              "      <td>17.0</td>\n",
              "      <td>60.0</td>\n",
              "      <td>0.99800</td>\n",
              "      <td>3.16</td>\n",
              "      <td>0.58</td>\n",
              "      <td>9.8</td>\n",
              "      <td>6</td>\n",
              "    </tr>\n",
              "    <tr>\n",
              "      <th>4</th>\n",
              "      <td>7.4</td>\n",
              "      <td>0.700</td>\n",
              "      <td>0.00</td>\n",
              "      <td>1.9</td>\n",
              "      <td>0.076</td>\n",
              "      <td>11.0</td>\n",
              "      <td>34.0</td>\n",
              "      <td>0.99780</td>\n",
              "      <td>3.51</td>\n",
              "      <td>0.56</td>\n",
              "      <td>9.4</td>\n",
              "      <td>5</td>\n",
              "    </tr>\n",
              "    <tr>\n",
              "      <th>...</th>\n",
              "      <td>...</td>\n",
              "      <td>...</td>\n",
              "      <td>...</td>\n",
              "      <td>...</td>\n",
              "      <td>...</td>\n",
              "      <td>...</td>\n",
              "      <td>...</td>\n",
              "      <td>...</td>\n",
              "      <td>...</td>\n",
              "      <td>...</td>\n",
              "      <td>...</td>\n",
              "      <td>...</td>\n",
              "    </tr>\n",
              "    <tr>\n",
              "      <th>1594</th>\n",
              "      <td>6.2</td>\n",
              "      <td>0.600</td>\n",
              "      <td>0.08</td>\n",
              "      <td>2.0</td>\n",
              "      <td>0.090</td>\n",
              "      <td>32.0</td>\n",
              "      <td>44.0</td>\n",
              "      <td>0.99490</td>\n",
              "      <td>3.45</td>\n",
              "      <td>0.58</td>\n",
              "      <td>10.5</td>\n",
              "      <td>5</td>\n",
              "    </tr>\n",
              "    <tr>\n",
              "      <th>1595</th>\n",
              "      <td>5.9</td>\n",
              "      <td>0.550</td>\n",
              "      <td>0.10</td>\n",
              "      <td>2.2</td>\n",
              "      <td>0.062</td>\n",
              "      <td>39.0</td>\n",
              "      <td>51.0</td>\n",
              "      <td>0.99512</td>\n",
              "      <td>3.52</td>\n",
              "      <td>0.76</td>\n",
              "      <td>11.2</td>\n",
              "      <td>6</td>\n",
              "    </tr>\n",
              "    <tr>\n",
              "      <th>1596</th>\n",
              "      <td>6.3</td>\n",
              "      <td>0.510</td>\n",
              "      <td>0.13</td>\n",
              "      <td>2.3</td>\n",
              "      <td>0.076</td>\n",
              "      <td>29.0</td>\n",
              "      <td>40.0</td>\n",
              "      <td>0.99574</td>\n",
              "      <td>3.42</td>\n",
              "      <td>0.75</td>\n",
              "      <td>11.0</td>\n",
              "      <td>6</td>\n",
              "    </tr>\n",
              "    <tr>\n",
              "      <th>1597</th>\n",
              "      <td>5.9</td>\n",
              "      <td>0.645</td>\n",
              "      <td>0.12</td>\n",
              "      <td>2.0</td>\n",
              "      <td>0.075</td>\n",
              "      <td>32.0</td>\n",
              "      <td>44.0</td>\n",
              "      <td>0.99547</td>\n",
              "      <td>3.57</td>\n",
              "      <td>0.71</td>\n",
              "      <td>10.2</td>\n",
              "      <td>5</td>\n",
              "    </tr>\n",
              "    <tr>\n",
              "      <th>1598</th>\n",
              "      <td>6.0</td>\n",
              "      <td>0.310</td>\n",
              "      <td>0.47</td>\n",
              "      <td>3.6</td>\n",
              "      <td>0.067</td>\n",
              "      <td>18.0</td>\n",
              "      <td>42.0</td>\n",
              "      <td>0.99549</td>\n",
              "      <td>3.39</td>\n",
              "      <td>0.66</td>\n",
              "      <td>11.0</td>\n",
              "      <td>6</td>\n",
              "    </tr>\n",
              "  </tbody>\n",
              "</table>\n",
              "<p>1599 rows × 12 columns</p>\n",
              "</div>"
            ],
            "text/plain": [
              "      fixed acidity  volatile acidity  citric acid  ...  sulphates  alcohol  quality\n",
              "0               7.4             0.700         0.00  ...       0.56      9.4        5\n",
              "1               7.8             0.880         0.00  ...       0.68      9.8        5\n",
              "2               7.8             0.760         0.04  ...       0.65      9.8        5\n",
              "3              11.2             0.280         0.56  ...       0.58      9.8        6\n",
              "4               7.4             0.700         0.00  ...       0.56      9.4        5\n",
              "...             ...               ...          ...  ...        ...      ...      ...\n",
              "1594            6.2             0.600         0.08  ...       0.58     10.5        5\n",
              "1595            5.9             0.550         0.10  ...       0.76     11.2        6\n",
              "1596            6.3             0.510         0.13  ...       0.75     11.0        6\n",
              "1597            5.9             0.645         0.12  ...       0.71     10.2        5\n",
              "1598            6.0             0.310         0.47  ...       0.66     11.0        6\n",
              "\n",
              "[1599 rows x 12 columns]"
            ]
          },
          "metadata": {
            "tags": []
          },
          "execution_count": 16
        }
      ]
    },
    {
      "cell_type": "code",
      "metadata": {
        "id": "TQM3Zwejwhj2",
        "colab_type": "code",
        "colab": {}
      },
      "source": [
        "import matplotlib.pyplot as plt"
      ],
      "execution_count": 38,
      "outputs": []
    },
    {
      "cell_type": "code",
      "metadata": {
        "id": "kOHK2qf2ysML",
        "colab_type": "code",
        "colab": {
          "base_uri": "https://localhost:8080/",
          "height": 282
        },
        "outputId": "1976e326-0dc7-4fd6-eb4e-02a638cbb13b"
      },
      "source": [
        "plt.plot(dataset['fixed acidity'], dataset['citric acid'], 'b.')"
      ],
      "execution_count": 18,
      "outputs": [
        {
          "output_type": "execute_result",
          "data": {
            "text/plain": [
              "[<matplotlib.lines.Line2D at 0x7f55f68a05c0>]"
            ]
          },
          "metadata": {
            "tags": []
          },
          "execution_count": 18
        },
        {
          "output_type": "display_data",
          "data": {
            "image/png": "[encoded data removed]",
            "text/plain": [
              "<Figure size 432x288 with 1 Axes>"
            ]
          },
          "metadata": {
            "tags": [],
            "needs_background": "light"
          }
        }
      ]
    },
    {
      "cell_type": "code",
      "metadata": {
        "id": "uslfXaZTy3yG",
        "colab_type": "code",
        "colab": {}
      },
      "source": [
        "X = dataset.iloc[: , :-1].values\n",
        "y = dataset.iloc[: , -1].values"
      ],
      "execution_count": 23,
      "outputs": []
    },
    {
      "cell_type": "code",
      "metadata": {
        "id": "2EJf-qnrzAcY",
        "colab_type": "code",
        "colab": {}
      },
      "source": [
        "from sklearn.model_selection import train_test_split"
      ],
      "execution_count": 21,
      "outputs": []
    },
    {
      "cell_type": "code",
      "metadata": {
        "id": "KqV3zMkWzJS7",
        "colab_type": "code",
        "colab": {}
      },
      "source": [
        "X_train, X_test, y_train, y_test = train_test_split(X, y, test_size = 0.2)"
      ],
      "execution_count": null,
      "outputs": []
    },
    {
      "cell_type": "code",
      "metadata": {
        "id": "rYr2yJylzKfH",
        "colab_type": "code",
        "colab": {
          "base_uri": "https://localhost:8080/",
          "height": 452
        },
        "outputId": "b76e561b-47d8-4a31-9cec-7e24771cc0f4"
      },
      "source": [
        "plt.plot(X_test, y_test, 'b.')"
      ],
      "execution_count": 37,
      "outputs": [
        {
          "output_type": "execute_result",
          "data": {
            "text/plain": [
              "[<matplotlib.lines.Line2D at 0x7f55f39c4198>,\n",
              " <matplotlib.lines.Line2D at 0x7f55f39c4278>,\n",
              " <matplotlib.lines.Line2D at 0x7f55f39c43c8>,\n",
              " <matplotlib.lines.Line2D at 0x7f55f39c4518>,\n",
              " <matplotlib.lines.Line2D at 0x7f55f39c4668>,\n",
              " <matplotlib.lines.Line2D at 0x7f55f39c47b8>,\n",
              " <matplotlib.lines.Line2D at 0x7f55f39c4908>,\n",
              " <matplotlib.lines.Line2D at 0x7f55f39c4a58>,\n",
              " <matplotlib.lines.Line2D at 0x7f55f39c4ba8>,\n",
              " <matplotlib.lines.Line2D at 0x7f55f39c4cf8>,\n",
              " <matplotlib.lines.Line2D at 0x7f55f39c4e48>]"
            ]
          },
          "metadata": {
            "tags": []
          },
          "execution_count": 37
        },
        {
          "output_type": "display_data",
          "data": {
            "image/png": "[encoded data removed]",
            "text/plain": [
              "<Figure size 432x288 with 1 Axes>"
            ]
          },
          "metadata": {
            "tags": [],
            "needs_background": "light"
          }
        }
      ]
    },
    {
      "cell_type": "code",
      "metadata": {
        "id": "F4c8zAkMzqlL",
        "colab_type": "code",
        "colab": {
          "base_uri": "https://localhost:8080/",
          "height": 351
        },
        "outputId": "c8e6f45f-cfe0-4389-cd45-06b93d94f495"
      },
      "source": [
        "dataset.describe()"
      ],
      "execution_count": null,
      "outputs": [
        {
          "output_type": "execute_result",
          "data": {
            "text/html": [
              "<div>\n",
              "<style scoped>\n",
              "    .dataframe tbody tr th:only-of-type {\n",
              "        vertical-align: middle;\n",
              "    }\n",
              "\n",
              "    .dataframe tbody tr th {\n",
              "        vertical-align: top;\n",
              "    }\n",
              "\n",
              "    .dataframe thead th {\n",
              "        text-align: right;\n",
              "    }\n",
              "</style>\n",
              "<table border=\"1\" class=\"dataframe\">\n",
              "  <thead>\n",
              "    <tr style=\"text-align: right;\">\n",
              "      <th></th>\n",
              "      <th>fixed acidity</th>\n",
              "      <th>volatile acidity</th>\n",
              "      <th>citric acid</th>\n",
              "      <th>residual sugar</th>\n",
              "      <th>chlorides</th>\n",
              "      <th>free sulfur dioxide</th>\n",
              "      <th>total sulfur dioxide</th>\n",
              "      <th>density</th>\n",
              "      <th>pH</th>\n",
              "      <th>sulphates</th>\n",
              "      <th>alcohol</th>\n",
              "      <th>quality</th>\n",
              "    </tr>\n",
              "  </thead>\n",
              "  <tbody>\n",
              "    <tr>\n",
              "      <th>count</th>\n",
              "      <td>1599.000000</td>\n",
              "      <td>1599.000000</td>\n",
              "      <td>1599.000000</td>\n",
              "      <td>1599.000000</td>\n",
              "      <td>1599.000000</td>\n",
              "      <td>1599.000000</td>\n",
              "      <td>1599.000000</td>\n",
              "      <td>1599.000000</td>\n",
              "      <td>1599.000000</td>\n",
              "      <td>1599.000000</td>\n",
              "      <td>1599.000000</td>\n",
              "      <td>1599.000000</td>\n",
              "    </tr>\n",
              "    <tr>\n",
              "      <th>mean</th>\n",
              "      <td>8.319637</td>\n",
              "      <td>0.527821</td>\n",
              "      <td>0.270976</td>\n",
              "      <td>2.538806</td>\n",
              "      <td>0.087467</td>\n",
              "      <td>15.874922</td>\n",
              "      <td>46.467792</td>\n",
              "      <td>0.996747</td>\n",
              "      <td>3.311113</td>\n",
              "      <td>0.658149</td>\n",
              "      <td>10.422983</td>\n",
              "      <td>5.636023</td>\n",
              "    </tr>\n",
              "    <tr>\n",
              "      <th>std</th>\n",
              "      <td>1.741096</td>\n",
              "      <td>0.179060</td>\n",
              "      <td>0.194801</td>\n",
              "      <td>1.409928</td>\n",
              "      <td>0.047065</td>\n",
              "      <td>10.460157</td>\n",
              "      <td>32.895324</td>\n",
              "      <td>0.001887</td>\n",
              "      <td>0.154386</td>\n",
              "      <td>0.169507</td>\n",
              "      <td>1.065668</td>\n",
              "      <td>0.807569</td>\n",
              "    </tr>\n",
              "    <tr>\n",
              "      <th>min</th>\n",
              "      <td>4.600000</td>\n",
              "      <td>0.120000</td>\n",
              "      <td>0.000000</td>\n",
              "      <td>0.900000</td>\n",
              "      <td>0.012000</td>\n",
              "      <td>1.000000</td>\n",
              "      <td>6.000000</td>\n",
              "      <td>0.990070</td>\n",
              "      <td>2.740000</td>\n",
              "      <td>0.330000</td>\n",
              "      <td>8.400000</td>\n",
              "      <td>3.000000</td>\n",
              "    </tr>\n",
              "    <tr>\n",
              "      <th>25%</th>\n",
              "      <td>7.100000</td>\n",
              "      <td>0.390000</td>\n",
              "      <td>0.090000</td>\n",
              "      <td>1.900000</td>\n",
              "      <td>0.070000</td>\n",
              "      <td>7.000000</td>\n",
              "      <td>22.000000</td>\n",
              "      <td>0.995600</td>\n",
              "      <td>3.210000</td>\n",
              "      <td>0.550000</td>\n",
              "      <td>9.500000</td>\n",
              "      <td>5.000000</td>\n",
              "    </tr>\n",
              "    <tr>\n",
              "      <th>50%</th>\n",
              "      <td>7.900000</td>\n",
              "      <td>0.520000</td>\n",
              "      <td>0.260000</td>\n",
              "      <td>2.200000</td>\n",
              "      <td>0.079000</td>\n",
              "      <td>14.000000</td>\n",
              "      <td>38.000000</td>\n",
              "      <td>0.996750</td>\n",
              "      <td>3.310000</td>\n",
              "      <td>0.620000</td>\n",
              "      <td>10.200000</td>\n",
              "      <td>6.000000</td>\n",
              "    </tr>\n",
              "    <tr>\n",
              "      <th>75%</th>\n",
              "      <td>9.200000</td>\n",
              "      <td>0.640000</td>\n",
              "      <td>0.420000</td>\n",
              "      <td>2.600000</td>\n",
              "      <td>0.090000</td>\n",
              "      <td>21.000000</td>\n",
              "      <td>62.000000</td>\n",
              "      <td>0.997835</td>\n",
              "      <td>3.400000</td>\n",
              "      <td>0.730000</td>\n",
              "      <td>11.100000</td>\n",
              "      <td>6.000000</td>\n",
              "    </tr>\n",
              "    <tr>\n",
              "      <th>max</th>\n",
              "      <td>15.900000</td>\n",
              "      <td>1.580000</td>\n",
              "      <td>1.000000</td>\n",
              "      <td>15.500000</td>\n",
              "      <td>0.611000</td>\n",
              "      <td>72.000000</td>\n",
              "      <td>289.000000</td>\n",
              "      <td>1.003690</td>\n",
              "      <td>4.010000</td>\n",
              "      <td>2.000000</td>\n",
              "      <td>14.900000</td>\n",
              "      <td>8.000000</td>\n",
              "    </tr>\n",
              "  </tbody>\n",
              "</table>\n",
              "</div>"
            ],
            "text/plain": [
              "       fixed acidity  volatile acidity  ...      alcohol      quality\n",
              "count    1599.000000       1599.000000  ...  1599.000000  1599.000000\n",
              "mean        8.319637          0.527821  ...    10.422983     5.636023\n",
              "std         1.741096          0.179060  ...     1.065668     0.807569\n",
              "min         4.600000          0.120000  ...     8.400000     3.000000\n",
              "25%         7.100000          0.390000  ...     9.500000     5.000000\n",
              "50%         7.900000          0.520000  ...    10.200000     6.000000\n",
              "75%         9.200000          0.640000  ...    11.100000     6.000000\n",
              "max        15.900000          1.580000  ...    14.900000     8.000000\n",
              "\n",
              "[8 rows x 12 columns]"
            ]
          },
          "metadata": {
            "tags": []
          },
          "execution_count": 18
        }
      ]
    },
    {
      "cell_type": "code",
      "metadata": {
        "id": "clQw_zO6zzdW",
        "colab_type": "code",
        "colab": {
          "base_uri": "https://localhost:8080/",
          "height": 292
        },
        "outputId": "45a8daa4-b518-4e5d-e017-461ad0c5cd91"
      },
      "source": [
        "dataset[dataset.isnull()=='True'].count()"
      ],
      "execution_count": null,
      "outputs": [
        {
          "output_type": "stream",
          "text": [
            "/usr/local/lib/python3.6/dist-packages/pandas/core/ops/array_ops.py:253: FutureWarning: elementwise comparison failed; returning scalar instead, but in the future will perform elementwise comparison\n",
            "  res_values = method(rvalues)\n"
          ],
          "name": "stderr"
        },
        {
          "output_type": "execute_result",
          "data": {
            "text/plain": [
              "fixed acidity           0\n",
              "volatile acidity        0\n",
              "citric acid             0\n",
              "residual sugar          0\n",
              "chlorides               0\n",
              "free sulfur dioxide     0\n",
              "total sulfur dioxide    0\n",
              "density                 0\n",
              "pH                      0\n",
              "sulphates               0\n",
              "alcohol                 0\n",
              "quality                 0\n",
              "dtype: int64"
            ]
          },
          "metadata": {
            "tags": []
          },
          "execution_count": 21
        }
      ]
    },
    {
      "cell_type": "code",
      "metadata": {
        "id": "wJgjqWNzCCUY",
        "colab_type": "code",
        "colab": {
          "base_uri": "https://localhost:8080/",
          "height": 34
        },
        "outputId": "72ed2796-1672-4489-f95b-3be47796fb2b"
      },
      "source": [
        "print(\"shape of our dataset of redwine: {s}\".format (s=dataset.shape))"
      ],
      "execution_count": null,
      "outputs": [
        {
          "output_type": "stream",
          "text": [
            "shape of our dataset of redwine: (1599, 12)\n"
          ],
          "name": "stdout"
        }
      ]
    },
    {
      "cell_type": "code",
      "metadata": {
        "id": "RtCzYTbIIvlE",
        "colab_type": "code",
        "colab": {
          "base_uri": "https://localhost:8080/",
          "height": 221
        },
        "outputId": "f9a6008d-dcd9-4325-abfd-eae27b06b306"
      },
      "source": [
        "dataset['quality'].unique"
      ],
      "execution_count": null,
      "outputs": [
        {
          "output_type": "execute_result",
          "data": {
            "text/plain": [
              "<bound method Series.unique of 0       5\n",
              "1       5\n",
              "2       5\n",
              "3       6\n",
              "4       5\n",
              "       ..\n",
              "1594    5\n",
              "1595    6\n",
              "1596    6\n",
              "1597    5\n",
              "1598    6\n",
              "Name: quality, Length: 1599, dtype: int64>"
            ]
          },
          "metadata": {
            "tags": []
          },
          "execution_count": 24
        }
      ]
    },
    {
      "cell_type": "code",
      "metadata": {
        "id": "-XiJm8ixKFkd",
        "colab_type": "code",
        "colab": {
          "base_uri": "https://localhost:8080/",
          "height": 136
        },
        "outputId": "7f25d84f-a254-4f0f-f6b2-69116fcfcc22"
      },
      "source": [
        "dataset.quality.value_counts().sort_index"
      ],
      "execution_count": null,
      "outputs": [
        {
          "output_type": "execute_result",
          "data": {
            "text/plain": [
              "<bound method Series.sort_index of 5    681\n",
              "6    638\n",
              "7    199\n",
              "4     53\n",
              "8     18\n",
              "3     10\n",
              "Name: quality, dtype: int64>"
            ]
          },
          "metadata": {
            "tags": []
          },
          "execution_count": 25
        }
      ]
    },
    {
      "cell_type": "code",
      "metadata": {
        "id": "GGrtULIEzNpt",
        "colab_type": "code",
        "colab": {}
      },
      "source": [
        "from sklearn.linear_model import LinearRegression\n",
        "\n",
        "from sklearn.model_selection import train_test_split\n",
        "X_train, X_test, y_train, y_test = train_test_split(X, y, test_size = 0.2)"
      ],
      "execution_count": 25,
      "outputs": []
    },
    {
      "cell_type": "code",
      "metadata": {
        "id": "p3z4Zp7IzV65",
        "colab_type": "code",
        "colab": {
          "base_uri": "https://localhost:8080/",
          "height": 34
        },
        "outputId": "9d375ee4-b467-409b-efb5-d42791cea4cf"
      },
      "source": [
        "reg = LinearRegression()\n",
        "reg.fit(X_train, y_train)\n"
      ],
      "execution_count": 31,
      "outputs": [
        {
          "output_type": "execute_result",
          "data": {
            "text/plain": [
              "LinearRegression(copy_X=True, fit_intercept=True, n_jobs=None, normalize=False)"
            ]
          },
          "metadata": {
            "tags": []
          },
          "execution_count": 31
        }
      ]
    },
    {
      "cell_type": "code",
      "metadata": {
        "id": "eQxWOwGBa60A",
        "colab_type": "code",
        "colab": {}
      },
      "source": [
        "pred = reg.predict(X_test)"
      ],
      "execution_count": 32,
      "outputs": []
    },
    {
      "cell_type": "code",
      "metadata": {
        "id": "ZMyL6cSbc8Id",
        "colab_type": "code",
        "colab": {
          "base_uri": "https://localhost:8080/",
          "height": 1000
        },
        "outputId": "798b06e4-4449-4954-f169-a2c0e34122bf"
      },
      "source": [
        "pred"
      ],
      "execution_count": 33,
      "outputs": [
        {
          "output_type": "execute_result",
          "data": {
            "text/plain": [
              "array([5.70893099, 4.99296233, 6.51396987, 5.35782701, 6.50956692,\n",
              "       6.02640501, 4.9803496 , 5.58993441, 5.08544921, 5.67153167,\n",
              "       6.34832439, 6.30978722, 5.57305785, 5.4457356 , 4.50948141,\n",
              "       6.64737894, 5.58474618, 5.28333485, 5.60034464, 4.91511929,\n",
              "       6.06791552, 5.36318762, 6.21110895, 4.7762741 , 5.59267931,\n",
              "       5.63485173, 5.08200658, 5.38088582, 5.84573726, 5.93581948,\n",
              "       5.25952719, 5.08061013, 5.63551338, 5.11377762, 5.74344228,\n",
              "       5.57685596, 5.69051402, 6.10405368, 4.91558524, 6.01331454,\n",
              "       5.54644563, 6.87812421, 6.13999083, 5.93581948, 5.5602827 ,\n",
              "       6.33197487, 5.84142032, 5.74804388, 5.35127907, 6.44069777,\n",
              "       5.7486864 , 5.20593737, 5.39626304, 5.60860795, 5.21806023,\n",
              "       5.36251319, 5.37043262, 5.06791111, 5.39515932, 5.21571793,\n",
              "       5.87679303, 5.66778825, 5.37210951, 5.34297039, 5.07343959,\n",
              "       5.16124693, 6.18270892, 5.7214059 , 5.44093407, 5.71028094,\n",
              "       6.62128361, 6.46839833, 6.24825653, 5.39720842, 5.51605922,\n",
              "       6.22790916, 5.25564963, 5.14973992, 6.06492279, 5.0366522 ,\n",
              "       4.35476147, 5.39333961, 6.52984092, 5.33494919, 5.72299171,\n",
              "       6.18433581, 5.16124693, 4.98526921, 6.30639973, 6.49675152,\n",
              "       5.15279863, 6.24844532, 5.74187544, 5.30176929, 5.89505937,\n",
              "       5.17977892, 6.22279933, 6.37703441, 5.00281266, 6.80214352,\n",
              "       5.4441249 , 5.14507422, 5.94834283, 5.13690672, 5.82633154,\n",
              "       6.07351305, 5.69768189, 6.68539145, 5.96899427, 5.04804933,\n",
              "       5.29898938, 5.24275742, 5.48891414, 5.87515034, 5.99555468,\n",
              "       5.44300458, 5.42164288, 4.89922485, 5.89616429, 5.51839114,\n",
              "       5.96054752, 5.65326489, 5.32280876, 5.68504094, 5.2923862 ,\n",
              "       5.0669739 , 6.39136483, 6.15304205, 5.29519159, 5.37120802,\n",
              "       6.38025561, 6.36930498, 5.01517731, 5.36758825, 5.16900827,\n",
              "       5.65206885, 5.3919003 , 6.11919554, 4.98343862, 5.48842779,\n",
              "       5.22688229, 5.33770391, 5.81131017, 4.80650912, 5.18624713,\n",
              "       6.35681332, 5.33395708, 5.05208852, 6.18315561, 6.18704582,\n",
              "       5.78248313, 5.12405829, 5.67337566, 5.26184398, 5.05708385,\n",
              "       5.78446563, 5.20362176, 4.74925778, 5.40035574, 5.34925267,\n",
              "       5.8614962 , 5.17188548, 6.32741361, 6.32874614, 5.95645475,\n",
              "       5.9149243 , 5.2503104 , 5.47505899, 6.39064306, 5.65979754,\n",
              "       6.21348863, 5.8939924 , 5.68428206, 5.80506885, 5.18046752,\n",
              "       6.31609084, 5.64705449, 5.22241272, 4.990302  , 5.94043838,\n",
              "       5.14377289, 6.03728903, 5.34628334, 5.48577663, 6.16416243,\n",
              "       6.13668534, 6.1785691 , 5.7219936 , 5.13421557, 5.44417003,\n",
              "       5.55423516, 4.78684785, 5.81929034, 5.2923862 , 5.73047318,\n",
              "       5.34273183, 5.47515835, 6.39219527, 6.25154698, 5.56065269,\n",
              "       4.84335717, 5.36292686, 5.01988618, 5.29352356, 6.22409525,\n",
              "       5.7049439 , 5.34188435, 6.06702867, 5.93662631, 5.32280876,\n",
              "       5.71741962, 6.45395748, 5.00250264, 5.66243313, 5.33218284,\n",
              "       5.44953515, 5.80190738, 5.1157443 , 4.5635714 , 5.60673952,\n",
              "       5.29099336, 5.45812859, 5.27112039, 5.99393173, 5.17700127,\n",
              "       4.51590646, 6.33675663, 5.26165348, 6.08038202, 5.24111029,\n",
              "       5.52145697, 5.90993335, 5.38150085, 5.58850803, 5.37208429,\n",
              "       6.21206162, 5.86415476, 5.1444323 , 5.1683126 , 5.24350721,\n",
              "       6.31834458, 5.6086441 , 5.65606939, 4.91783666, 5.11473456,\n",
              "       5.50727238, 6.11807828, 6.18256506, 6.50366539, 5.86208376,\n",
              "       5.94740575, 5.4557798 , 5.80907356, 6.09881363, 5.12464209,\n",
              "       6.30450194, 5.04187399, 5.62573489, 5.77176956, 5.52443212,\n",
              "       5.75260413, 6.5208414 , 5.0156653 , 6.16027646, 4.8946104 ,\n",
              "       5.0588725 , 5.78628132, 5.33912118, 4.98526921, 6.01633983,\n",
              "       6.01331454, 5.94053528, 5.45896496, 6.23231314, 5.52390878,\n",
              "       6.08167507, 5.46424023, 5.00242486, 6.14920477, 5.35782701,\n",
              "       5.51134464, 5.16900827, 5.22771842, 5.71601248, 5.33157127,\n",
              "       5.28585677, 5.61912884, 5.38150085, 5.68510806, 5.61325357,\n",
              "       6.06058426, 6.49672438, 6.31841164, 6.21261762, 5.44212435,\n",
              "       6.14427909, 5.62608673, 6.24651279, 5.8570629 , 4.96682716,\n",
              "       6.30194808, 4.82138871, 5.11923238, 5.42301736, 6.07880291,\n",
              "       5.63861974, 5.23002468, 5.98467256, 6.23269674, 5.10004144,\n",
              "       5.97094338, 5.492514  , 5.69637955, 6.20426418, 5.03835406,\n",
              "       5.24199494, 4.95842642, 5.26679407, 5.19585215, 5.62573489])"
            ]
          },
          "metadata": {
            "tags": []
          },
          "execution_count": 33
        }
      ]
    },
    {
      "cell_type": "code",
      "metadata": {
        "id": "toEp7O3Zi302",
        "colab_type": "code",
        "colab": {
          "base_uri": "https://localhost:8080/",
          "height": 1000
        },
        "outputId": "97cd4ffd-a2a2-4255-e613-2d2dbb8d2d6c"
      },
      "source": [
        "for i in range(len(X_test)):\n",
        "    print(pred[i] , y_test[i], pred[i] - y_test[i])"
      ],
      "execution_count": 34,
      "outputs": [
        {
          "output_type": "stream",
          "text": [
            "5.708930991845232 6 -0.29106900815476777\n",
            "4.992962330955184 6 -1.0070376690448164\n",
            "6.5139698669067485 6 0.5139698669067485\n",
            "5.357827012634292 5 0.3578270126342922\n",
            "6.509566920488769 6 0.5095669204887692\n",
            "6.026405006555496 7 -0.9735949934445038\n",
            "4.980349603528641 5 -0.019650396471359244\n",
            "5.589934405070686 6 -0.41006559492931416\n",
            "5.085449214842171 5 0.08544921484217127\n",
            "5.671531673859537 5 0.6715316738595369\n",
            "6.348324394352442 6 0.3483243943524421\n",
            "6.309787219434163 6 0.3097872194341633\n",
            "5.573057846678704 5 0.5730578466787044\n",
            "5.445735601195292 5 0.44573560119529176\n",
            "4.50948141170505 5 -0.4905185882949503\n",
            "6.647378937228456 6 0.6473789372284564\n",
            "5.584746179436447 6 -0.415253820563553\n",
            "5.283334849906449 5 0.2833348499064492\n",
            "5.600344644196287 7 -1.3996553558037128\n",
            "4.915119290788073 5 -0.08488070921192659\n",
            "6.067915524444491 5 1.0679155244444907\n",
            "5.363187616619388 5 0.36318761661938836\n",
            "6.211108947389771 7 -0.7888910526102286\n",
            "4.776274096394381 4 0.7762740963943813\n",
            "5.592679312920932 7 -1.4073206870790678\n",
            "5.634851728100028 7 -1.3651482718999723\n",
            "5.08200658428488 5 0.08200658428487984\n",
            "5.380885820066439 5 0.3808858200664389\n",
            "5.845737255140794 6 -0.15426274485920644\n",
            "5.935819481738001 5 0.935819481738001\n",
            "5.2595271853049965 5 0.2595271853049965\n",
            "5.080610125925286 5 0.08061012592528627\n",
            "5.635513382790091 4 1.6355133827900907\n",
            "5.113777624939509 5 0.11377762493950883\n",
            "5.74344228008432 6 -0.2565577199156799\n",
            "5.576855961113775 5 0.5768559611137754\n",
            "5.690514022809751 6 -0.3094859771902492\n",
            "6.104053678897412 7 -0.8959463211025884\n",
            "4.915585237884162 6 -1.0844147621158378\n",
            "6.013314537294018 6 0.013314537294018436\n",
            "5.54644563411664 6 -0.4535543658833596\n",
            "6.878124214156905 6 0.8781242141569052\n",
            "6.1399908278772095 7 -0.8600091721227905\n",
            "5.935819481738001 5 0.935819481738001\n",
            "5.560282699631621 6 -0.43971730036837897\n",
            "6.331974870080966 6 0.33197487008096616\n",
            "5.8414203231640265 5 0.8414203231640265\n",
            "5.748043876070231 4 1.7480438760702306\n",
            "5.3512790689860665 4 1.3512790689860665\n",
            "6.440697774304947 6 0.4406977743049474\n",
            "5.748686400332026 5 0.7486864003320264\n",
            "5.20593736878277 5 0.20593736878277014\n",
            "5.396263040456542 5 0.39626304045654237\n",
            "5.608607950960529 7 -1.391392049039471\n",
            "5.218060228378079 5 0.2180602283780786\n",
            "5.3625131857450015 5 0.36251318574500146\n",
            "5.370432620990233 6 -0.6295673790097673\n",
            "5.067911110444847 5 0.06791111044484666\n",
            "5.395159323350015 5 0.3951593233500148\n",
            "5.215717926706571 5 0.21571792670657075\n",
            "5.876793029584952 5 0.8767930295849524\n",
            "5.667788254628963 5 0.6677882546289631\n",
            "5.372109511881671 6 -0.6278904881183287\n",
            "5.342970385244108 5 0.34297038524410794\n",
            "5.073439590464471 5 0.07343959046447068\n",
            "5.161246926028557 5 0.16124692602855717\n",
            "6.182708923515033 7 -0.8172910764849668\n",
            "5.721405900154743 5 0.7214059001547426\n",
            "5.4409340727342155 6 -0.5590659272657845\n",
            "5.710280943616294 6 -0.28971905638370643\n",
            "6.6212836135149225 6 0.6212836135149225\n",
            "6.468398325900036 7 -0.5316016740999636\n",
            "6.248256530741319 6 0.24825653074131893\n",
            "5.3972084237700315 6 -0.6027915762299685\n",
            "5.516059220604443 6 -0.4839407793955566\n",
            "6.227909164337575 7 -0.772090835662425\n",
            "5.255649626920775 4 1.2556496269207749\n",
            "5.1497399176127026 5 0.14973991761270256\n",
            "6.064922787305452 6 0.06492278730545209\n",
            "5.036652198972355 5 0.036652198972355166\n",
            "4.354761465451691 5 -0.6452385345483087\n",
            "5.393339610132816 7 -1.6066603898671836\n",
            "6.529840921605338 7 -0.4701590783946621\n",
            "5.334949188353235 5 0.33494918835323517\n",
            "5.722991705478492 6 -0.277008294521508\n",
            "6.184335810564626 7 -0.815664189435374\n",
            "5.161246926028557 5 0.16124692602855717\n",
            "4.985269212892337 6 -1.0147307871076627\n",
            "6.306399728414256 6 0.3063997284142559\n",
            "6.496751523018553 6 0.49675152301855263\n",
            "5.1527986336735765 3 2.1527986336735765\n",
            "6.248445323528653 6 0.248445323528653\n",
            "5.7418754374292575 6 -0.25812456257074246\n",
            "5.301769292348606 5 0.30176929234860594\n",
            "5.89505936546087 7 -1.1049406345391297\n",
            "5.179778924302926 6 -0.8202210756970736\n",
            "6.2227993308236655 6 0.22279933082366554\n",
            "6.377034407274589 6 0.37703440727458926\n",
            "5.002812658287713 5 0.0028126582877128214\n",
            "6.802143519430494 6 0.8021435194304942\n",
            "5.444124896837934 5 0.4441248968379341\n",
            "5.145074218054269 4 1.145074218054269\n",
            "5.9483428316254106 7 -1.0516571683745894\n",
            "5.136906722086788 6 -0.8630932779132117\n",
            "5.826331542924862 7 -1.173668457075138\n",
            "6.073513052608085 7 -0.9264869473919148\n",
            "5.697681885103602 6 -0.3023181148963978\n",
            "6.685391453152871 8 -1.3146085468471291\n",
            "5.9689942735583905 5 0.9689942735583905\n",
            "5.048049329547066 5 0.04804932954706587\n",
            "5.29898938272143 6 -0.7010106172785697\n",
            "5.242757421070824 5 0.24275742107082365\n",
            "5.488914138777215 6 -0.5110858612227851\n",
            "5.875150337882282 5 0.8751503378822818\n",
            "5.995554678784032 6 -0.004445321215968079\n",
            "5.443004579822446 5 0.44300457982244623\n",
            "5.421642878829527 6 -0.5783571211704732\n",
            "4.899224853868009 5 -0.10077514613199057\n",
            "5.896164293115664 6 -0.10383570688433608\n",
            "5.51839114394139 6 -0.48160885605861026\n",
            "5.960547524587668 6 -0.03945247541233243\n",
            "5.653264885073838 6 -0.3467351149261617\n",
            "5.322808757764115 5 0.3228087577641148\n",
            "5.685040940704727 6 -0.3149590592952727\n",
            "5.292386198511103 5 0.29238619851110315\n",
            "5.066973898117169 5 0.06697389811716903\n",
            "6.391364832122946 6 0.3913648321229459\n",
            "6.1530420478305246 7 -0.8469579521694754\n",
            "5.295191588921117 5 0.2951915889211172\n",
            "5.371208018731934 5 0.37120801873193443\n",
            "6.380255612403758 7 -0.6197443875962421\n",
            "6.369304977061454 6 0.3693049770614536\n",
            "5.0151773096434376 5 0.015177309643437553\n",
            "5.367588251484165 5 0.36758825148416463\n",
            "5.169008267173108 5 0.16900826717310835\n",
            "5.652068845663191 6 -0.3479311543368091\n",
            "5.391900299920227 5 0.391900299920227\n",
            "6.119195539688587 7 -0.8808044603114134\n",
            "4.983438615199653 5 -0.016561384800347412\n",
            "5.488427792217557 5 0.48842779221755706\n",
            "5.226882293559658 5 0.22688229355965817\n",
            "5.3377039089405685 7 -1.6622960910594315\n",
            "5.811310169187561 6 -0.1886898308124394\n",
            "4.80650911943809 5 -0.19349088056191022\n",
            "5.186247134710719 5 0.18624713471071885\n",
            "6.356813317511165 6 0.35681331751116474\n",
            "5.333957081550572 6 -0.6660429184494276\n",
            "5.052088515459545 5 0.05208851545954474\n",
            "6.18315560524789 7 -0.8168443947521098\n",
            "6.18704582240894 7 -0.8129541775910596\n",
            "5.782483133952336 6 -0.21751686604766363\n",
            "5.124058286337043 5 0.12405828633704274\n",
            "5.673375658425627 6 -0.32662434157437303\n",
            "5.261843975107993 5 0.2618439751079933\n",
            "5.057083845074089 5 0.05708384507408937\n",
            "5.784465625719378 5 0.7844656257193776\n",
            "5.2036217597426635 5 0.2036217597426635\n",
            "4.749257775229136 5 -0.25074222477086394\n",
            "5.400355735668878 5 0.40035573566887805\n",
            "5.349252668053477 5 0.3492526680534773\n",
            "5.861496196434917 4 1.861496196434917\n",
            "5.171885479598313 5 0.17188547959831268\n",
            "6.327413614387343 6 0.32741361438734273\n",
            "6.3287461434331505 7 -0.6712538565668495\n",
            "5.956454749794123 6 -0.043545250205877295\n",
            "5.914924304158493 5 0.9149243041584931\n",
            "5.2503103994167795 5 0.25031039941677946\n",
            "5.47505898889079 5 0.47505898889079035\n",
            "6.390643059190612 7 -0.6093569408093877\n",
            "5.6597975385452415 6 -0.3402024614547585\n",
            "6.2134886334950465 6 0.21348863349504654\n",
            "5.893992399567928 6 -0.10600760043207202\n",
            "5.684282062120239 6 -0.31571793787976077\n",
            "5.805068851508114 6 -0.19493114849188586\n",
            "5.180467521253984 5 0.18046752125398413\n",
            "6.316090839422024 7 -0.6839091605779757\n",
            "5.647054487704704 6 -0.352945512295296\n",
            "5.222412716655853 5 0.22241271665585316\n",
            "4.990302000318444 5 -0.009697999681556269\n",
            "5.940438381136676 5 0.9404383811366763\n",
            "5.143772892517717 5 0.14377289251771685\n",
            "6.037289031044878 6 0.03728903104487813\n",
            "5.3462833405990615 6 -0.6537166594009385\n",
            "5.4857766250993585 6 -0.5142233749006415\n",
            "6.1641624307938585 6 0.1641624307938585\n",
            "6.136685338063497 8 -1.8633146619365029\n",
            "6.178569099288421 6 0.17856909928842057\n",
            "5.721993603728727 5 0.7219936037287269\n",
            "5.134215573659603 5 0.13421557365960268\n",
            "5.444170031753988 5 0.4441700317539876\n",
            "5.554235161763071 6 -0.44576483823692925\n",
            "4.786847854374873 5 -0.21315214562512708\n",
            "5.819290341400173 6 -0.18070965859982735\n",
            "5.292386198511103 5 0.29238619851110315\n",
            "5.730473175775597 7 -1.2695268242244033\n",
            "5.342731825583872 5 0.34273182558387205\n",
            "5.475158348963905 5 0.4751583489639053\n",
            "6.39219526508381 6 0.3921952650838101\n",
            "6.251546979808303 7 -0.7484530201916968\n",
            "5.5606526932592395 5 0.5606526932592395\n",
            "4.843357166119365 5 -0.15664283388063538\n",
            "5.362926856753795 5 0.3629268567537949\n",
            "5.01988618045916 6 -0.9801138195408399\n",
            "5.293523564238406 5 0.29352356423840575\n",
            "6.224095251616916 6 0.2240952516169159\n",
            "5.704943901872472 5 0.7049439018724719\n",
            "5.341884352777498 5 0.3418843527774982\n",
            "6.067028666289318 6 0.06702866628931758\n",
            "5.936626308602406 6 -0.06337369139759375\n",
            "5.322808757764115 5 0.3228087577641148\n",
            "5.717419621773985 6 -0.2825803782260152\n",
            "6.453957484349914 7 -0.5460425156500861\n",
            "5.002502637180655 5 0.0025026371806546877\n",
            "5.66243313093285 6 -0.3375668690671496\n",
            "5.33218284396407 5 0.3321828439640697\n",
            "5.449535151033164 5 0.44953515103316377\n",
            "5.801907379289062 6 -0.1980926207109377\n",
            "5.115744302365943 5 0.11574430236594324\n",
            "4.563571400740734 4 0.5635714007407344\n",
            "5.606739515590348 5 0.6067395155903483\n",
            "5.290993359355827 5 0.29099335935582715\n",
            "5.458128589742255 5 0.45812858974225534\n",
            "5.271120387225896 6 -0.7288796127741044\n",
            "5.993931729749939 6 -0.006068270250061403\n",
            "5.177001270116765 5 0.17700127011676514\n",
            "4.515906462749875 3 1.515906462749875\n",
            "6.336756633718295 7 -0.663243366281705\n",
            "5.261653482030834 4 1.2616534820308338\n",
            "6.080382018688788 6 0.08038201868878758\n",
            "5.241110286156211 5 0.24111028615621066\n",
            "5.521456968833196 6 -0.4785430311668044\n",
            "5.90993334603321 6 -0.09006665396679026\n",
            "5.381500845058337 6 -0.618499154941663\n",
            "5.58850802944848 5 0.5885080294484801\n",
            "5.3720842888323475 5 0.37208428883234745\n",
            "6.212061617170573 6 0.2120616171705727\n",
            "5.864154764111262 5 0.8641547641112624\n",
            "5.144432299616199 5 0.14443229961619863\n",
            "5.168312602860631 5 0.168312602860631\n",
            "5.243507207753641 5 0.2435072077536411\n",
            "6.318344579046467 6 0.3183445790464674\n",
            "5.608644103367531 5 0.6086441033675314\n",
            "5.656069392945849 6 -0.34393060705415124\n",
            "4.917836660780843 5 -0.0821633392191572\n",
            "5.11473456173778 5 0.11473456173778018\n",
            "5.50727238388226 6 -0.4927276161177403\n",
            "6.118078277079768 7 -0.8819217229202323\n",
            "6.182565062187603 6 0.18256506218760293\n",
            "6.503665392223414 7 -0.49633460777658556\n",
            "5.862083758042051 5 0.8620837580420506\n",
            "5.94740575110356 6 -0.052594248896440376\n",
            "5.455779800448209 6 -0.5442201995517912\n",
            "5.809073557964723 7 -1.190926442035277\n",
            "6.098813631234503 6 0.09881363123450271\n",
            "5.124642092705887 5 0.12464209270588711\n",
            "6.304501940157685 6 0.30450194015768517\n",
            "5.041873994873317 4 1.0418739948733169\n",
            "5.625734893899622 6 -0.37426510610037766\n",
            "5.771769560343593 5 0.7717695603435928\n",
            "5.524432124039592 5 0.5244321240395919\n",
            "5.752604131680538 7 -1.2473958683194617\n",
            "6.520841397390825 7 -0.479158602609175\n",
            "5.015665296012983 5 0.015665296012983276\n",
            "6.16027646151548 6 0.1602764615154797\n",
            "4.894610400934376 5 -0.1053895990656244\n",
            "5.058872502938428 6 -0.9411274970615722\n",
            "5.7862813232197325 6 -0.21371867678026746\n",
            "5.339121180619372 5 0.33912118061937235\n",
            "4.985269212892337 6 -1.0147307871076627\n",
            "6.016339830192614 6 0.016339830192613647\n",
            "6.013314537294018 6 0.013314537294018436\n",
            "5.940535276549525 6 -0.05946472345047482\n",
            "5.458964963764252 6 -0.5410350362357477\n",
            "6.232313144089044 6 0.23231314408904424\n",
            "5.523908779926906 5 0.5239087799269058\n",
            "6.081675072607666 6 0.08167507260766627\n",
            "5.464240232129576 5 0.4642402321295762\n",
            "5.00242486308397 5 0.0024248630839700525\n",
            "6.14920476798563 6 0.14920476798562987\n",
            "5.357827012634292 5 0.3578270126342922\n",
            "5.5113446353328435 6 -0.48865536466715653\n",
            "5.169008267173108 5 0.16900826717310835\n",
            "5.227718415334692 5 0.22771841533469228\n",
            "5.71601247956006 5 0.7160124795600602\n",
            "5.331571270112949 6 -0.6684287298870508\n",
            "5.285856765986598 6 -0.7141432340134024\n",
            "5.619128843294117 5 0.6191288432941171\n",
            "5.381500845058337 6 -0.618499154941663\n",
            "5.685108061183659 6 -0.31489193881634137\n",
            "5.613253574058973 5 0.6132535740589731\n",
            "6.0605842633879625 6 0.06058426338796252\n",
            "6.496724383716181 7 -0.503275616283819\n",
            "6.318411642146327 5 1.3184116421463266\n",
            "6.212617622381401 5 1.2126176223814014\n",
            "5.4421243515404 5 0.4421243515404001\n",
            "6.144279089572759 6 0.14427908957275903\n",
            "5.626086729622404 6 -0.3739132703775958\n",
            "6.246512794963746 6 0.24651279496374556\n",
            "5.857062900292259 6 -0.1429370997077406\n",
            "4.966827163504121 5 -0.03317283649587921\n",
            "6.301948076271152 6 0.3019480762711524\n",
            "4.821388714796154 6 -1.1786112852038464\n",
            "5.119232378906798 6 -0.8807676210932023\n",
            "5.423017362310649 4 1.4230173623106488\n",
            "6.078802907988926 5 1.0788029079889263\n",
            "5.63861973619635 5 0.6386197361963504\n",
            "5.230024680520863 5 0.230024680520863\n",
            "5.984672563461071 7 -1.0153274365389287\n",
            "6.232696738297868 8 -1.767303261702132\n",
            "5.10004144090145 4 1.1000414409014496\n",
            "5.97094337690082 6 -0.02905662309918\n",
            "5.492514003127482 5 0.49251400312748217\n",
            "5.696379548004959 6 -0.30362045199504095\n",
            "6.204264176737848 7 -0.7957358232621523\n",
            "5.038354058207336 5 0.03835405820733584\n",
            "5.241994940027151 5 0.24199494002715127\n",
            "4.95842642443062 5 -0.04157357556938024\n",
            "5.26679406742775 5 0.2667940674277496\n",
            "5.195852148297202 5 0.19585214829720243\n",
            "5.625734893899622 6 -0.37426510610037766\n"
          ],
          "name": "stdout"
        }
      ]
    },
    {
      "cell_type": "code",
      "metadata": {
        "id": "SBRB0GohjEHW",
        "colab_type": "code",
        "colab": {
          "base_uri": "https://localhost:8080/",
          "height": 136
        },
        "outputId": "398672b8-1245-49ba-b86c-17c9bb2a181f"
      },
      "source": [
        "X_test"
      ],
      "execution_count": 35,
      "outputs": [
        {
          "output_type": "execute_result",
          "data": {
            "text/plain": [
              "array([[14.3 ,  0.31,  0.74, ...,  2.86,  0.79,  8.4 ],\n",
              "       [ 8.  ,  0.77,  0.32, ...,  3.27,  0.5 ,  9.8 ],\n",
              "       [ 9.3 ,  0.38,  0.48, ...,  3.23,  0.57, 13.2 ],\n",
              "       ...,\n",
              "       [ 8.7 ,  0.84,  0.  , ...,  3.27,  0.55,  9.7 ],\n",
              "       [ 7.6 ,  0.54,  0.13, ...,  3.39,  0.61,  9.4 ],\n",
              "       [ 7.5 ,  0.51,  0.02, ...,  3.36,  0.54, 10.5 ]])"
            ]
          },
          "metadata": {
            "tags": []
          },
          "execution_count": 35
        }
      ]
    },
    {
      "cell_type": "code",
      "metadata": {
        "id": "-qwjXUTujNvr",
        "colab_type": "code",
        "colab": {
          "base_uri": "https://localhost:8080/",
          "height": 643
        },
        "outputId": "7395a519-ffbb-417f-afa2-82b6ce700ef4"
      },
      "source": [
        "import matplotlib.pyplot as plt\n",
        "\n",
        "plt.scatter(X_test, y_test, color=\"blue\")\n",
        "plt.plot(X_train, reg.predict(X_train), color=\"red\")\n",
        "plt.xlabel(\"fixed acidity\")\n",
        "plt.ylabel(\"citric acid\")\n",
        "plt.show()"
      ],
      "execution_count": 43,
      "outputs": [
        {
          "output_type": "error",
          "ename": "ValueError",
          "evalue": "ignored",
          "traceback": [
            "\u001b[0;31m---------------------------------------------------------------------------\u001b[0m",
            "\u001b[0;31mValueError\u001b[0m                                Traceback (most recent call last)",
            "\u001b[0;32m<ipython-input-43-e3222d6badb2>\u001b[0m in \u001b[0;36m<module>\u001b[0;34m()\u001b[0m\n\u001b[1;32m      1\u001b[0m \u001b[0;32mimport\u001b[0m \u001b[0mmatplotlib\u001b[0m\u001b[0;34m.\u001b[0m\u001b[0mpyplot\u001b[0m \u001b[0;32mas\u001b[0m \u001b[0mplt\u001b[0m\u001b[0;34m\u001b[0m\u001b[0;34m\u001b[0m\u001b[0m\n\u001b[1;32m      2\u001b[0m \u001b[0;34m\u001b[0m\u001b[0m\n\u001b[0;32m----> 3\u001b[0;31m \u001b[0mplt\u001b[0m\u001b[0;34m.\u001b[0m\u001b[0mscatter\u001b[0m\u001b[0;34m(\u001b[0m\u001b[0mX_test\u001b[0m\u001b[0;34m,\u001b[0m \u001b[0my_test\u001b[0m\u001b[0;34m,\u001b[0m \u001b[0mcolor\u001b[0m\u001b[0;34m=\u001b[0m\u001b[0;34m\"blue\"\u001b[0m\u001b[0;34m)\u001b[0m\u001b[0;34m\u001b[0m\u001b[0;34m\u001b[0m\u001b[0m\n\u001b[0m\u001b[1;32m      4\u001b[0m \u001b[0mplt\u001b[0m\u001b[0;34m.\u001b[0m\u001b[0mplot\u001b[0m\u001b[0;34m(\u001b[0m\u001b[0mX_train\u001b[0m\u001b[0;34m,\u001b[0m \u001b[0mreg\u001b[0m\u001b[0;34m.\u001b[0m\u001b[0mpredict\u001b[0m\u001b[0;34m(\u001b[0m\u001b[0mX_train\u001b[0m\u001b[0;34m)\u001b[0m\u001b[0;34m,\u001b[0m \u001b[0mcolor\u001b[0m\u001b[0;34m=\u001b[0m\u001b[0;34m\"red\"\u001b[0m\u001b[0;34m)\u001b[0m\u001b[0;34m\u001b[0m\u001b[0;34m\u001b[0m\u001b[0m\n\u001b[1;32m      5\u001b[0m \u001b[0mplt\u001b[0m\u001b[0;34m.\u001b[0m\u001b[0mxlabel\u001b[0m\u001b[0;34m(\u001b[0m\u001b[0;34m\"fixed acidity\"\u001b[0m\u001b[0;34m)\u001b[0m\u001b[0;34m\u001b[0m\u001b[0;34m\u001b[0m\u001b[0m\n",
            "\u001b[0;32m/usr/local/lib/python3.6/dist-packages/matplotlib/pyplot.py\u001b[0m in \u001b[0;36mscatter\u001b[0;34m(x, y, s, c, marker, cmap, norm, vmin, vmax, alpha, linewidths, verts, edgecolors, plotnonfinite, data, **kwargs)\u001b[0m\n\u001b[1;32m   2814\u001b[0m         \u001b[0mverts\u001b[0m\u001b[0;34m=\u001b[0m\u001b[0mverts\u001b[0m\u001b[0;34m,\u001b[0m \u001b[0medgecolors\u001b[0m\u001b[0;34m=\u001b[0m\u001b[0medgecolors\u001b[0m\u001b[0;34m,\u001b[0m\u001b[0;34m\u001b[0m\u001b[0;34m\u001b[0m\u001b[0m\n\u001b[1;32m   2815\u001b[0m         plotnonfinite=plotnonfinite, **({\"data\": data} if data is not\n\u001b[0;32m-> 2816\u001b[0;31m         None else {}), **kwargs)\n\u001b[0m\u001b[1;32m   2817\u001b[0m     \u001b[0msci\u001b[0m\u001b[0;34m(\u001b[0m\u001b[0m__ret\u001b[0m\u001b[0;34m)\u001b[0m\u001b[0;34m\u001b[0m\u001b[0;34m\u001b[0m\u001b[0m\n\u001b[1;32m   2818\u001b[0m     \u001b[0;32mreturn\u001b[0m \u001b[0m__ret\u001b[0m\u001b[0;34m\u001b[0m\u001b[0;34m\u001b[0m\u001b[0m\n",
            "\u001b[0;32m/usr/local/lib/python3.6/dist-packages/matplotlib/__init__.py\u001b[0m in \u001b[0;36minner\u001b[0;34m(ax, data, *args, **kwargs)\u001b[0m\n\u001b[1;32m   1563\u001b[0m     \u001b[0;32mdef\u001b[0m \u001b[0minner\u001b[0m\u001b[0;34m(\u001b[0m\u001b[0max\u001b[0m\u001b[0;34m,\u001b[0m \u001b[0;34m*\u001b[0m\u001b[0margs\u001b[0m\u001b[0;34m,\u001b[0m \u001b[0mdata\u001b[0m\u001b[0;34m=\u001b[0m\u001b[0;32mNone\u001b[0m\u001b[0;34m,\u001b[0m \u001b[0;34m**\u001b[0m\u001b[0mkwargs\u001b[0m\u001b[0;34m)\u001b[0m\u001b[0;34m:\u001b[0m\u001b[0;34m\u001b[0m\u001b[0;34m\u001b[0m\u001b[0m\n\u001b[1;32m   1564\u001b[0m         \u001b[0;32mif\u001b[0m \u001b[0mdata\u001b[0m \u001b[0;32mis\u001b[0m \u001b[0;32mNone\u001b[0m\u001b[0;34m:\u001b[0m\u001b[0;34m\u001b[0m\u001b[0;34m\u001b[0m\u001b[0m\n\u001b[0;32m-> 1565\u001b[0;31m             \u001b[0;32mreturn\u001b[0m \u001b[0mfunc\u001b[0m\u001b[0;34m(\u001b[0m\u001b[0max\u001b[0m\u001b[0;34m,\u001b[0m \u001b[0;34m*\u001b[0m\u001b[0mmap\u001b[0m\u001b[0;34m(\u001b[0m\u001b[0msanitize_sequence\u001b[0m\u001b[0;34m,\u001b[0m \u001b[0margs\u001b[0m\u001b[0;34m)\u001b[0m\u001b[0;34m,\u001b[0m \u001b[0;34m**\u001b[0m\u001b[0mkwargs\u001b[0m\u001b[0;34m)\u001b[0m\u001b[0;34m\u001b[0m\u001b[0;34m\u001b[0m\u001b[0m\n\u001b[0m\u001b[1;32m   1566\u001b[0m \u001b[0;34m\u001b[0m\u001b[0m\n\u001b[1;32m   1567\u001b[0m         \u001b[0mbound\u001b[0m \u001b[0;34m=\u001b[0m \u001b[0mnew_sig\u001b[0m\u001b[0;34m.\u001b[0m\u001b[0mbind\u001b[0m\u001b[0;34m(\u001b[0m\u001b[0max\u001b[0m\u001b[0;34m,\u001b[0m \u001b[0;34m*\u001b[0m\u001b[0margs\u001b[0m\u001b[0;34m,\u001b[0m \u001b[0;34m**\u001b[0m\u001b[0mkwargs\u001b[0m\u001b[0;34m)\u001b[0m\u001b[0;34m\u001b[0m\u001b[0;34m\u001b[0m\u001b[0m\n",
            "\u001b[0;32m/usr/local/lib/python3.6/dist-packages/matplotlib/cbook/deprecation.py\u001b[0m in \u001b[0;36mwrapper\u001b[0;34m(*args, **kwargs)\u001b[0m\n\u001b[1;32m    356\u001b[0m                 \u001b[0;34mf\"%(removal)s.  If any parameter follows {name!r}, they \"\u001b[0m\u001b[0;34m\u001b[0m\u001b[0;34m\u001b[0m\u001b[0m\n\u001b[1;32m    357\u001b[0m                 f\"should be pass as keyword, not positionally.\")\n\u001b[0;32m--> 358\u001b[0;31m         \u001b[0;32mreturn\u001b[0m \u001b[0mfunc\u001b[0m\u001b[0;34m(\u001b[0m\u001b[0;34m*\u001b[0m\u001b[0margs\u001b[0m\u001b[0;34m,\u001b[0m \u001b[0;34m**\u001b[0m\u001b[0mkwargs\u001b[0m\u001b[0;34m)\u001b[0m\u001b[0;34m\u001b[0m\u001b[0;34m\u001b[0m\u001b[0m\n\u001b[0m\u001b[1;32m    359\u001b[0m \u001b[0;34m\u001b[0m\u001b[0m\n\u001b[1;32m    360\u001b[0m     \u001b[0;32mreturn\u001b[0m \u001b[0mwrapper\u001b[0m\u001b[0;34m\u001b[0m\u001b[0;34m\u001b[0m\u001b[0m\n",
            "\u001b[0;32m/usr/local/lib/python3.6/dist-packages/matplotlib/axes/_axes.py\u001b[0m in \u001b[0;36mscatter\u001b[0;34m(self, x, y, s, c, marker, cmap, norm, vmin, vmax, alpha, linewidths, verts, edgecolors, plotnonfinite, **kwargs)\u001b[0m\n\u001b[1;32m   4389\u001b[0m         \u001b[0my\u001b[0m \u001b[0;34m=\u001b[0m \u001b[0mnp\u001b[0m\u001b[0;34m.\u001b[0m\u001b[0mma\u001b[0m\u001b[0;34m.\u001b[0m\u001b[0mravel\u001b[0m\u001b[0;34m(\u001b[0m\u001b[0my\u001b[0m\u001b[0;34m)\u001b[0m\u001b[0;34m\u001b[0m\u001b[0;34m\u001b[0m\u001b[0m\n\u001b[1;32m   4390\u001b[0m         \u001b[0;32mif\u001b[0m \u001b[0mx\u001b[0m\u001b[0;34m.\u001b[0m\u001b[0msize\u001b[0m \u001b[0;34m!=\u001b[0m \u001b[0my\u001b[0m\u001b[0;34m.\u001b[0m\u001b[0msize\u001b[0m\u001b[0;34m:\u001b[0m\u001b[0;34m\u001b[0m\u001b[0;34m\u001b[0m\u001b[0m\n\u001b[0;32m-> 4391\u001b[0;31m             \u001b[0;32mraise\u001b[0m \u001b[0mValueError\u001b[0m\u001b[0;34m(\u001b[0m\u001b[0;34m\"x and y must be the same size\"\u001b[0m\u001b[0;34m)\u001b[0m\u001b[0;34m\u001b[0m\u001b[0;34m\u001b[0m\u001b[0m\n\u001b[0m\u001b[1;32m   4392\u001b[0m \u001b[0;34m\u001b[0m\u001b[0m\n\u001b[1;32m   4393\u001b[0m         \u001b[0;32mif\u001b[0m \u001b[0ms\u001b[0m \u001b[0;32mis\u001b[0m \u001b[0;32mNone\u001b[0m\u001b[0;34m:\u001b[0m\u001b[0;34m\u001b[0m\u001b[0;34m\u001b[0m\u001b[0m\n",
            "\u001b[0;31mValueError\u001b[0m: x and y must be the same size"
          ]
        },
        {
          "output_type": "display_data",
          "data": {
            "image/png": "[encoded data removed]",
            "text/plain": [
              "<Figure size 432x288 with 1 Axes>"
            ]
          },
          "metadata": {
            "tags": [],
            "needs_background": "light"
          }
        }
      ]
    },
    {
      "cell_type": "code",
      "metadata": {
        "id": "EsAOC6Q-j2Gs",
        "colab_type": "code",
        "colab": {}
      },
      "source": [
        ""
      ],
      "execution_count": 36,
      "outputs": []
    }
  ]
}